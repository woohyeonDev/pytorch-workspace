{
 "cells": [
  {
   "cell_type": "code",
   "execution_count": 2,
   "metadata": {},
   "outputs": [],
   "source": [
    "import torch\n",
    "import numpy as np\n"
   ]
  },
  {
   "cell_type": "code",
   "execution_count": 3,
   "metadata": {},
   "outputs": [
    {
     "name": "stdout",
     "output_type": "stream",
     "text": [
      "[0. 1. 2. 3. 4. 5. 6.]\n",
      "Rank of t:  1\n",
      "Shape of t:  (7,)\n"
     ]
    }
   ],
   "source": [
    "t = np.array([0., 1., 2., 3., 4., 5., 6.])\n",
    "# 파이썬으로 설명하면 List를 생성해서 np.array로 1차원 array로 변환함.\n",
    "print(t)\n",
    "print('Rank of t: ', t.ndim)\n",
    "print('Shape of t: ', t.shape)"
   ]
  },
  {
   "cell_type": "code",
   "execution_count": 4,
   "metadata": {},
   "outputs": [
    {
     "name": "stdout",
     "output_type": "stream",
     "text": [
      "t[0] t[1] t[-1] =  0.0 1.0 6.0\n",
      "[2. 3. 4.] [4. 5.]\n"
     ]
    }
   ],
   "source": [
    "print('t[0] t[1] t[-1] = ', t[0], t[1], t[-1]) # 인덱스를 통한 원소 접근\n",
    "print(t[2:5], t[4:-1])"
   ]
  },
  {
   "cell_type": "code",
   "execution_count": 5,
   "metadata": {},
   "outputs": [
    {
     "name": "stdout",
     "output_type": "stream",
     "text": [
      "tensor([0., 1., 2., 3., 4.])\n",
      "tensor([1., 1., 1.])\n",
      "tensor([[1., 2., 3.],\n",
      "        [1., 2., 3.],\n",
      "        [1., 2., 3.]])\n"
     ]
    }
   ],
   "source": [
    "t= torch.FloatTensor([\n",
    "    [0.,1.,2.,3.,4.],\n",
    "    [0.,1.,2.,3.,4.],\n",
    "    [0.,1.,2.,3.,4.]\n",
    "])\n",
    "print(t[0])\n",
    "print(t[:,1])\n",
    "print(t[:,1:-1])"
   ]
  },
  {
   "cell_type": "code",
   "execution_count": 24,
   "metadata": {},
   "outputs": [
    {
     "name": "stdout",
     "output_type": "stream",
     "text": [
      "tensor(2.5000)\n",
      "tensor([2., 3.])\n",
      "tensor([1.5000, 3.5000])\n"
     ]
    }
   ],
   "source": [
    "t = torch.FloatTensor([\n",
    "    [1,2],\n",
    "    [3,4]\n",
    "])\n",
    "print(t.mean())\n",
    "print(t.mean(dim=0))\n",
    "print(t.mean(dim=1))"
   ]
  },
  {
   "cell_type": "code",
   "execution_count": 23,
   "metadata": {},
   "outputs": [
    {
     "name": "stdout",
     "output_type": "stream",
     "text": [
      "tensor(5.)\n",
      "tensor([[3.5000, 4.5000],\n",
      "        [5.5000, 6.5000]])\n",
      "tensor([[2., 3.],\n",
      "        [7., 8.]])\n",
      "tensor([[1.5000, 3.5000],\n",
      "        [6.5000, 8.5000]])\n"
     ]
    }
   ],
   "source": [
    "t = torch.FloatTensor([\n",
    "    [\n",
    "        [1,2],\n",
    "        [3,4]\n",
    "                ],\n",
    "    [\n",
    "        [6,7],\n",
    "        [8,9]\n",
    "                ]    \n",
    "])\n",
    "print(t.mean())\n",
    "print(t.mean(dim=0))\n",
    "print(t.mean(dim=1))\n",
    "print(t.mean(dim=2))\n"
   ]
  },
  {
   "cell_type": "code",
   "execution_count": 25,
   "metadata": {},
   "outputs": [
    {
     "name": "stdout",
     "output_type": "stream",
     "text": [
      "tensor(40.)\n",
      "tensor([[ 7.,  9.],\n",
      "        [11., 13.]])\n",
      "tensor([[ 4.,  6.],\n",
      "        [14., 16.]])\n",
      "tensor([[ 3.,  7.],\n",
      "        [13., 17.]])\n"
     ]
    }
   ],
   "source": [
    "t = torch.FloatTensor([\n",
    "    [\n",
    "        [1,2],\n",
    "        [3,4]\n",
    "                ],\n",
    "    [\n",
    "        [6,7],\n",
    "        [8,9]\n",
    "                ]    \n",
    "])\n",
    "print(t.sum())\n",
    "print(t.sum(dim=0))\n",
    "print(t.sum(dim=1))\n",
    "print(t.sum(dim=2))"
   ]
  },
  {
   "cell_type": "code",
   "execution_count": 33,
   "metadata": {},
   "outputs": [
    {
     "name": "stdout",
     "output_type": "stream",
     "text": [
      "tensor(9.)\n",
      "tensor([[6., 7.],\n",
      "        [8., 9.]])\n",
      "tensor([[3., 4.],\n",
      "        [8., 9.]])\n",
      "tensor([[2., 4.],\n",
      "        [7., 9.]])\n"
     ]
    }
   ],
   "source": [
    "t = torch.FloatTensor([\n",
    "    [\n",
    "        [1,2],\n",
    "        [3,4]\n",
    "                ],\n",
    "    [\n",
    "        [6,7],\n",
    "        [8,9]\n",
    "                ]    \n",
    "])\n",
    "print(t.max())\n",
    "print(t.max(dim=0)[0])\n",
    "print(t.max(dim=1)[0])\n",
    "print(t.max(dim=2)[0])\n"
   ]
  },
  {
   "cell_type": "code",
   "execution_count": 3,
   "metadata": {},
   "outputs": [
    {
     "name": "stdout",
     "output_type": "stream",
     "text": [
      "torch.Size([2, 2, 2])\n",
      "torch.Size([2, 2, 2])\n",
      "tensor([[1., 2.],\n",
      "        [3., 4.],\n",
      "        [6., 7.],\n",
      "        [8., 9.]])\n",
      "tensor([[[1., 2., 3., 4.]],\n",
      "\n",
      "        [[6., 7., 8., 9.]]])\n",
      "tensor([[[1., 2.]],\n",
      "\n",
      "        [[3., 4.]],\n",
      "\n",
      "        [[6., 7.]],\n",
      "\n",
      "        [[8., 9.]]])\n",
      "tensor([[[1.]],\n",
      "\n",
      "        [[2.]],\n",
      "\n",
      "        [[3.]],\n",
      "\n",
      "        [[4.]],\n",
      "\n",
      "        [[6.]],\n",
      "\n",
      "        [[7.]],\n",
      "\n",
      "        [[8.]],\n",
      "\n",
      "        [[9.]]])\n"
     ]
    }
   ],
   "source": [
    "t = torch.FloatTensor([\n",
    "    [\n",
    "        [1,2],\n",
    "        [3,4]\n",
    "                ],\n",
    "    [\n",
    "        [6,7],\n",
    "        [8,9]\n",
    "                ]    \n",
    "])\n",
    "print(t.size())\n",
    "print(t.shape)\n",
    "print(t.view([-1,2]))\n",
    "print(t.view([-1,1,4]))\n",
    "print(t.view([-1,1,2]))\n",
    "print(t.view([-1,1,1]))"
   ]
  },
  {
   "cell_type": "code",
   "execution_count": 6,
   "metadata": {},
   "outputs": [
    {
     "name": "stdout",
     "output_type": "stream",
     "text": [
      "tensor([[0., 1., 2.],\n",
      "        [3., 4., 5.]])\n"
     ]
    }
   ],
   "source": [
    "t = torch.FloatTensor([\n",
    "    [\n",
    "        [0], \n",
    "        [1], \n",
    "        [2]\n",
    "                ],\n",
    "    [\n",
    "        [3], \n",
    "        [4], \n",
    "        [5]\n",
    "                ]\n",
    "    ])\n",
    "print(t.squeeze())"
   ]
  },
  {
   "cell_type": "code",
   "execution_count": 7,
   "metadata": {},
   "outputs": [
    {
     "name": "stdout",
     "output_type": "stream",
     "text": [
      "tensor([[[[1., 2.],\n",
      "          [3., 4.]],\n",
      "\n",
      "         [[1., 2.],\n",
      "          [3., 4.]]]])\n",
      "tensor([[[[1., 2.],\n",
      "          [3., 4.]]],\n",
      "\n",
      "\n",
      "        [[[1., 2.],\n",
      "          [3., 4.]]]])\n",
      "tensor([[[[1., 2.]],\n",
      "\n",
      "         [[3., 4.]]],\n",
      "\n",
      "\n",
      "        [[[1., 2.]],\n",
      "\n",
      "         [[3., 4.]]]])\n",
      "tensor([[[[1.],\n",
      "          [2.]],\n",
      "\n",
      "         [[3.],\n",
      "          [4.]]],\n",
      "\n",
      "\n",
      "        [[[1.],\n",
      "          [2.]],\n",
      "\n",
      "         [[3.],\n",
      "          [4.]]]])\n"
     ]
    }
   ],
   "source": [
    "t=torch.FloatTensor([\n",
    "    [\n",
    "        [1,2],\n",
    "        [3,4]\n",
    "                ],\n",
    "    [\n",
    "        [1,2],\n",
    "        [3,4]\n",
    "                ]    \n",
    "])\n",
    "print(t.unsqueeze(0))\n",
    "print(t.unsqueeze(1))\n",
    "print(t.unsqueeze(2))\n",
    "print(t.unsqueeze(3))"
   ]
  },
  {
   "cell_type": "code",
   "execution_count": 77,
   "metadata": {},
   "outputs": [
    {
     "name": "stdout",
     "output_type": "stream",
     "text": [
      "tensor([[[1., 2.],\n",
      "         [3., 4.]],\n",
      "\n",
      "        [[6., 7.],\n",
      "         [8., 9.]],\n",
      "\n",
      "        [[1., 2.],\n",
      "         [3., 4.]],\n",
      "\n",
      "        [[6., 7.],\n",
      "         [8., 9.]]])\n",
      "tensor([[[1., 2.],\n",
      "         [3., 4.],\n",
      "         [1., 2.],\n",
      "         [3., 4.]],\n",
      "\n",
      "        [[6., 7.],\n",
      "         [8., 9.],\n",
      "         [6., 7.],\n",
      "         [8., 9.]]])\n",
      "tensor([[[1., 2., 1., 2.],\n",
      "         [3., 4., 3., 4.]],\n",
      "\n",
      "        [[6., 7., 6., 7.],\n",
      "         [8., 9., 8., 9.]]])\n"
     ]
    }
   ],
   "source": [
    "x = torch.FloatTensor([\n",
    "    [\n",
    "        [1,2],\n",
    "        [3,4]\n",
    "                ],\n",
    "    [\n",
    "        [6,7],\n",
    "        [8,9]\n",
    "                ]    \n",
    "])\n",
    "y = torch.FloatTensor([\n",
    "    [\n",
    "        [1,2],\n",
    "        [3,4]\n",
    "                ],\n",
    "    [\n",
    "        [6,7],\n",
    "        [8,9]\n",
    "                ]    \n",
    "])\n",
    "print(torch.cat([x, y], dim=0))\n",
    "print(torch.cat([x, y], dim=1))\n",
    "print(torch.cat([x, y], dim=2))"
   ]
  },
  {
   "cell_type": "code",
   "execution_count": 8,
   "metadata": {},
   "outputs": [
    {
     "name": "stdout",
     "output_type": "stream",
     "text": [
      "tensor([[[[1., 2.],\n",
      "          [3., 4.]],\n",
      "\n",
      "         [[6., 7.],\n",
      "          [8., 9.]]],\n",
      "\n",
      "\n",
      "        [[[1., 2.],\n",
      "          [3., 4.]],\n",
      "\n",
      "         [[6., 7.],\n",
      "          [8., 9.]]],\n",
      "\n",
      "\n",
      "        [[[1., 2.],\n",
      "          [3., 4.]],\n",
      "\n",
      "         [[6., 7.],\n",
      "          [8., 9.]]]])\n",
      "tensor([[[[1., 2.],\n",
      "          [3., 4.]],\n",
      "\n",
      "         [[1., 2.],\n",
      "          [3., 4.]],\n",
      "\n",
      "         [[1., 2.],\n",
      "          [3., 4.]]],\n",
      "\n",
      "\n",
      "        [[[6., 7.],\n",
      "          [8., 9.]],\n",
      "\n",
      "         [[6., 7.],\n",
      "          [8., 9.]],\n",
      "\n",
      "         [[6., 7.],\n",
      "          [8., 9.]]]])\n"
     ]
    }
   ],
   "source": [
    "x = torch.FloatTensor([\n",
    "    [\n",
    "        [1,2],\n",
    "        [3,4]\n",
    "                ],\n",
    "    [\n",
    "        [6,7],\n",
    "        [8,9]\n",
    "                ]    \n",
    "])\n",
    "y = torch.FloatTensor([\n",
    "    [\n",
    "        [1,2],\n",
    "        [3,4]\n",
    "                ],\n",
    "    [\n",
    "        [6,7],\n",
    "        [8,9]\n",
    "                ]    \n",
    "])\n",
    "z = torch.FloatTensor([\n",
    "    [\n",
    "        [1,2],\n",
    "        [3,4]\n",
    "                ],\n",
    "    [\n",
    "        [6,7],\n",
    "        [8,9]\n",
    "                ]    \n",
    "])\n",
    "print(torch.stack([x, y, z],dim=0))\n",
    "print(torch.stack([x, y, z],dim=1))\n"
   ]
  },
  {
   "cell_type": "code",
   "execution_count": 91,
   "metadata": {},
   "outputs": [
    {
     "name": "stdout",
     "output_type": "stream",
     "text": [
      "tensor([[[[1., 2.],\n",
      "          [1., 2.],\n",
      "          [1., 2.]],\n",
      "\n",
      "         [[3., 4.],\n",
      "          [3., 4.],\n",
      "          [3., 4.]]],\n",
      "\n",
      "\n",
      "        [[[6., 7.],\n",
      "          [6., 7.],\n",
      "          [6., 7.]],\n",
      "\n",
      "         [[8., 9.],\n",
      "          [8., 9.],\n",
      "          [8., 9.]]]])\n",
      "tensor([[[[1., 1., 1.],\n",
      "          [2., 2., 2.]],\n",
      "\n",
      "         [[3., 3., 3.],\n",
      "          [4., 4., 4.]]],\n",
      "\n",
      "\n",
      "        [[[6., 6., 6.],\n",
      "          [7., 7., 7.]],\n",
      "\n",
      "         [[8., 8., 8.],\n",
      "          [9., 9., 9.]]]])\n"
     ]
    }
   ],
   "source": [
    "print(torch.stack([x, y, z],dim=2))\n",
    "print(torch.stack([x, y, z],dim=3))"
   ]
  }
 ],
 "metadata": {
  "kernelspec": {
   "display_name": "pytorch0617",
   "language": "python",
   "name": "conda"
  },
  "language_info": {
   "codemirror_mode": {
    "name": "ipython",
    "version": 3
   },
   "file_extension": ".py",
   "mimetype": "text/x-python",
   "name": "python",
   "nbconvert_exporter": "python",
   "pygments_lexer": "ipython3",
   "version": "3.11.4"
  },
  "orig_nbformat": 4
 },
 "nbformat": 4,
 "nbformat_minor": 2
}
