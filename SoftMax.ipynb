{
 "cells": [
  {
   "cell_type": "code",
   "execution_count": 2,
   "metadata": {},
   "outputs": [
    {
     "data": {
      "text/plain": [
       "<torch._C.Generator at 0x18904b18210>"
      ]
     },
     "execution_count": 2,
     "metadata": {},
     "output_type": "execute_result"
    }
   ],
   "source": [
    "import torch\n",
    "import torch.nn as nn\n",
    "import torch.nn.functional as F\n",
    "import torch.optim as optim\n",
    "import numpy as np\n",
    "torch.manual_seed(1)"
   ]
  },
  {
   "cell_type": "code",
   "execution_count": 3,
   "metadata": {},
   "outputs": [],
   "source": [
    "x_train = [[1, 2, 1, 1],\n",
    "           [2, 1, 3, 2],\n",
    "           [3, 1, 3, 4],\n",
    "           [4, 1, 5, 5],\n",
    "           [1, 7, 5, 5],\n",
    "           [1, 2, 5, 6],\n",
    "           [1, 6, 6, 6],\n",
    "           [1, 7, 7, 7]]\n",
    "y_train = [2, 2, 2, 1, 1, 1, 0, 0]\n",
    "x_train = torch.FloatTensor(x_train)\n",
    "y_train = torch.LongTensor(y_train)"
   ]
  },
  {
   "cell_type": "code",
   "execution_count": 7,
   "metadata": {},
   "outputs": [
    {
     "name": "stdout",
     "output_type": "stream",
     "text": [
      "Epoch    0/1000 Cost: 3.763306 \n",
      "[Parameter containing:\n",
      "tensor([[ 0.2622, -0.1124,  0.2844, -0.0074],\n",
      "        [ 0.0058, -0.3635, -0.0695,  0.4513],\n",
      "        [-0.1873,  0.2279,  0.0946, -0.3404]], requires_grad=True), Parameter containing:\n",
      "tensor([-0.3165,  0.3359,  0.1065], requires_grad=True)]\n",
      "Epoch  100/1000 Cost: 0.634510 \n",
      "[Parameter containing:\n",
      "tensor([[-0.8465,  0.0899,  0.5481,  0.0488],\n",
      "        [-0.0805, -0.3777, -0.0762,  0.5019],\n",
      "        [ 1.0077,  0.0397, -0.1625, -0.4471]], requires_grad=True), Parameter containing:\n",
      "tensor([-0.8302, -0.0103,  0.9664], requires_grad=True)]\n",
      "Epoch  200/1000 Cost: 0.553141 \n",
      "[Parameter containing:\n",
      "tensor([[-1.2517, -0.0110,  0.8338,  0.0402],\n",
      "        [-0.0205, -0.3873, -0.0768,  0.5803],\n",
      "        [ 1.3528,  0.1502, -0.4476, -0.5169]], requires_grad=True), Parameter containing:\n",
      "tensor([-1.1150, -0.1979,  1.4388], requires_grad=True)]\n",
      "Epoch  300/1000 Cost: 0.499127 \n",
      "[Parameter containing:\n",
      "tensor([[-1.5523, -0.0825,  1.0959, -0.0202],\n",
      "        [ 0.0352, -0.3853, -0.1026,  0.6564],\n",
      "        [ 1.5978,  0.2197, -0.6838, -0.5326]], requires_grad=True), Parameter containing:\n",
      "tensor([-1.3558, -0.3234,  1.8052], requires_grad=True)]\n",
      "Epoch  400/1000 Cost: 0.454847 \n",
      "[Parameter containing:\n",
      "tensor([[-1.8068, -0.1437,  1.3443, -0.0996],\n",
      "        [ 0.0908, -0.3774, -0.1416,  0.7299],\n",
      "        [ 1.7966,  0.2730, -0.8932, -0.5268]], requires_grad=True), Parameter containing:\n",
      "tensor([-1.5748, -0.4154,  2.1162], requires_grad=True)]\n",
      "Epoch  500/1000 Cost: 0.415295 \n",
      "[Parameter containing:\n",
      "tensor([[-2.0334, -0.1998,  1.5807, -0.1869],\n",
      "        [ 0.1458, -0.3656, -0.1870,  0.8010],\n",
      "        [ 1.9682,  0.3173, -1.0842, -0.5106]], requires_grad=True), Parameter containing:\n",
      "tensor([-1.7780, -0.4874,  2.3914], requires_grad=True)]\n",
      "Epoch  600/1000 Cost: 0.378128 \n",
      "[Parameter containing:\n",
      "tensor([[-2.2391, -0.2524,  1.8046, -0.2770],\n",
      "        [ 0.1987, -0.3512, -0.2342,  0.8698],\n",
      "        [ 2.1211,  0.3556, -1.2609, -0.4893]], requires_grad=True), Parameter containing:\n",
      "tensor([-1.9672, -0.5472,  2.6404], requires_grad=True)]\n",
      "Epoch  700/1000 Cost: 0.341821 \n",
      "[Parameter containing:\n",
      "tensor([[-2.4268, -0.3026,  2.0144, -0.3670],\n",
      "        [ 0.2480, -0.3349, -0.2795,  0.9363],\n",
      "        [ 2.2595,  0.3894, -1.4255, -0.4658]], requires_grad=True), Parameter containing:\n",
      "tensor([-2.1425, -0.6000,  2.8684], requires_grad=True)]\n",
      "Epoch  800/1000 Cost: 0.305279 \n",
      "[Parameter containing:\n",
      "tensor([[-2.5971, -0.3508,  2.2079, -0.4552],\n",
      "        [ 0.2921, -0.3171, -0.3191,  1.0011],\n",
      "        [ 2.3856,  0.4198, -1.5793, -0.4423]], requires_grad=True), Parameter containing:\n",
      "tensor([-2.3030, -0.6499,  3.0788], requires_grad=True)]\n",
      "Epoch  900/1000 Cost: 0.268723 \n",
      "[Parameter containing:\n",
      "tensor([[-2.7496, -0.3981,  2.3813, -0.5414],\n",
      "        [ 0.3297, -0.2977, -0.3486,  1.0654],\n",
      "        [ 2.5006,  0.4477, -1.7233, -0.4204]], requires_grad=True), Parameter containing:\n",
      "tensor([-2.4477, -0.6999,  3.2735], requires_grad=True)]\n",
      "Epoch 1000/1000 Cost: 0.242802 \n",
      "[Parameter containing:\n",
      "tensor([[-2.8859, -0.4422,  2.5358, -0.6251],\n",
      "        [ 0.3615, -0.2807, -0.3686,  1.1293],\n",
      "        [ 2.6051,  0.4748, -1.8577, -0.4007]], requires_grad=True), Parameter containing:\n",
      "tensor([-2.5773, -0.7511,  3.4543], requires_grad=True)]\n"
     ]
    }
   ],
   "source": [
    "# 모델을 선언 및 초기화. 4개의 특성을 가지고 3개의 클래스로 분류. input_dim=4, output_dim=3.\n",
    "model = nn.Linear(4, 3)\n",
    "\n",
    "# optimizer 설정\n",
    "optimizer = optim.SGD(model.parameters(), lr=0.1)\n",
    "\n",
    "nb_epochs = 1000\n",
    "for epoch in range(nb_epochs + 1):\n",
    "\n",
    "    # H(x) 계산\n",
    "    prediction = model(x_train)\n",
    "\n",
    "    # cost 계산\n",
    "    cost = F.cross_entropy(prediction, y_train)\n",
    "\n",
    "    # cost로 H(x) 개선\n",
    "    optimizer.zero_grad()\n",
    "    cost.backward()\n",
    "    optimizer.step()\n",
    "\n",
    "    # 20번마다 로그 출력\n",
    "    if epoch % 100 == 0:\n",
    "        print('Epoch {:4d}/{} Cost: {:.6f} '.format(\n",
    "            epoch, nb_epochs, cost.item()\n",
    "        ))\n",
    "        print(list(model.parameters()))"
   ]
  },
  {
   "cell_type": "code",
   "execution_count": 9,
   "metadata": {},
   "outputs": [
    {
     "name": "stdout",
     "output_type": "stream",
     "text": [
      "Using PyTorch version: 2.0.1  Device: cuda\n"
     ]
    }
   ],
   "source": [
    "#딥러닝 모델 설계 때 필요한 장비 확인\n",
    "\n",
    "if torch.cuda.is_available():\n",
    "    DEVICE = torch.device('cuda') #GPU이용\n",
    "    \n",
    "else:\n",
    "    DEVICE = torch.device('cpu') #GPU이용안되면 CPU이용\n",
    "    \n",
    "print('Using PyTorch version:', torch.__version__, ' Device:', DEVICE)"
   ]
  }
 ],
 "metadata": {
  "kernelspec": {
   "display_name": "pytorch0617",
   "language": "python",
   "name": "conda"
  },
  "language_info": {
   "codemirror_mode": {
    "name": "ipython",
    "version": 3
   },
   "file_extension": ".py",
   "mimetype": "text/x-python",
   "name": "python",
   "nbconvert_exporter": "python",
   "pygments_lexer": "ipython3",
   "version": "3.11.4"
  },
  "orig_nbformat": 4
 },
 "nbformat": 4,
 "nbformat_minor": 2
}
